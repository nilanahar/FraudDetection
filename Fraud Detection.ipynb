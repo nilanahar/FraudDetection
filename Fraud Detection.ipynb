{
 "cells": [
  {
   "cell_type": "markdown",
   "metadata": {},
   "source": [
    "#### A data science project of credit cards transactions dataset with insights, regression analysis and prediction models"
   ]
  },
  {
   "cell_type": "markdown",
   "metadata": {},
   "source": [
    "This dataset is a simulated credit card transaction dataset containing legitimate and fraud transactions from the duration 1st Jan 2019 - 31st Dec 2020. It covers credit cards of 1000 customers doing transactions with a pool of 800 merchants. The dataset was generated using Sparkov Data Generation | Github tool created by Brandon Harris. "
   ]
  },
  {
   "cell_type": "code",
   "execution_count": 196,
   "metadata": {},
   "outputs": [],
   "source": [
    "# import packages \n",
    "\n",
    "import pandas as pd \n",
    "\n",
    "import numpy as np\n",
    "\n",
    "import matplotlib\n",
    "import matplotlib.pyplot as plt\n",
    "plt.rcParams['figure.figsize'] = [12, 12]\n",
    "\n",
    "import seaborn as sns\n",
    "\n",
    "import statsmodels.api as sm\n",
    "\n",
    "\n",
    "from sklearn.linear_model import LogisticRegression\n",
    "from sklearn.model_selection import train_test_split\n",
    "from sklearn import linear_model\n",
    "from sklearn.metrics import confusion_matrix\n",
    "from sklearn.metrics import roc_auc_score\n",
    "from sklearn.metrics import roc_curve"
   ]
  },
  {
   "cell_type": "markdown",
   "metadata": {},
   "source": [
    "The dataset has already been separated and saved in two .csv files for train and test data. However, we will concat into one data set and build own our train and test sets using randomization. "
   ]
  },
  {
   "cell_type": "code",
   "execution_count": 197,
   "metadata": {},
   "outputs": [],
   "source": [
    "# data sets:\n",
    "\n",
    "# building dataset\n",
    "temp_train = pd.read_csv('fraudTrain.csv')\n",
    "\n",
    "# validating dataset\n",
    "temp_test = pd.read_csv('fraudTest.csv')\n",
    "\n",
    "# concating dataset into one: \n",
    "df = pd.concat([temp_train, temp_test])"
   ]
  },
  {
   "cell_type": "code",
   "execution_count": 198,
   "metadata": {},
   "outputs": [
    {
     "data": {
      "text/html": [
       "<div>\n",
       "<style scoped>\n",
       "    .dataframe tbody tr th:only-of-type {\n",
       "        vertical-align: middle;\n",
       "    }\n",
       "\n",
       "    .dataframe tbody tr th {\n",
       "        vertical-align: top;\n",
       "    }\n",
       "\n",
       "    .dataframe thead th {\n",
       "        text-align: right;\n",
       "    }\n",
       "</style>\n",
       "<table border=\"1\" class=\"dataframe\">\n",
       "  <thead>\n",
       "    <tr style=\"text-align: right;\">\n",
       "      <th></th>\n",
       "      <th>Unnamed: 0</th>\n",
       "      <th>trans_date_trans_time</th>\n",
       "      <th>cc_num</th>\n",
       "      <th>merchant</th>\n",
       "      <th>category</th>\n",
       "      <th>amt</th>\n",
       "      <th>first</th>\n",
       "      <th>last</th>\n",
       "      <th>gender</th>\n",
       "      <th>street</th>\n",
       "      <th>...</th>\n",
       "      <th>lat</th>\n",
       "      <th>long</th>\n",
       "      <th>city_pop</th>\n",
       "      <th>job</th>\n",
       "      <th>dob</th>\n",
       "      <th>trans_num</th>\n",
       "      <th>unix_time</th>\n",
       "      <th>merch_lat</th>\n",
       "      <th>merch_long</th>\n",
       "      <th>is_fraud</th>\n",
       "    </tr>\n",
       "  </thead>\n",
       "  <tbody>\n",
       "    <tr>\n",
       "      <th>0</th>\n",
       "      <td>0</td>\n",
       "      <td>2019-01-01 00:00:18</td>\n",
       "      <td>2703186189652095</td>\n",
       "      <td>fraud_Rippin, Kub and Mann</td>\n",
       "      <td>misc_net</td>\n",
       "      <td>4.97</td>\n",
       "      <td>Jennifer</td>\n",
       "      <td>Banks</td>\n",
       "      <td>F</td>\n",
       "      <td>561 Perry Cove</td>\n",
       "      <td>...</td>\n",
       "      <td>36.0788</td>\n",
       "      <td>-81.1781</td>\n",
       "      <td>3495</td>\n",
       "      <td>Psychologist, counselling</td>\n",
       "      <td>1988-03-09</td>\n",
       "      <td>0b242abb623afc578575680df30655b9</td>\n",
       "      <td>1325376018</td>\n",
       "      <td>36.011293</td>\n",
       "      <td>-82.048315</td>\n",
       "      <td>0</td>\n",
       "    </tr>\n",
       "    <tr>\n",
       "      <th>1</th>\n",
       "      <td>1</td>\n",
       "      <td>2019-01-01 00:00:44</td>\n",
       "      <td>630423337322</td>\n",
       "      <td>fraud_Heller, Gutmann and Zieme</td>\n",
       "      <td>grocery_pos</td>\n",
       "      <td>107.23</td>\n",
       "      <td>Stephanie</td>\n",
       "      <td>Gill</td>\n",
       "      <td>F</td>\n",
       "      <td>43039 Riley Greens Suite 393</td>\n",
       "      <td>...</td>\n",
       "      <td>48.8878</td>\n",
       "      <td>-118.2105</td>\n",
       "      <td>149</td>\n",
       "      <td>Special educational needs teacher</td>\n",
       "      <td>1978-06-21</td>\n",
       "      <td>1f76529f8574734946361c461b024d99</td>\n",
       "      <td>1325376044</td>\n",
       "      <td>49.159047</td>\n",
       "      <td>-118.186462</td>\n",
       "      <td>0</td>\n",
       "    </tr>\n",
       "    <tr>\n",
       "      <th>2</th>\n",
       "      <td>2</td>\n",
       "      <td>2019-01-01 00:00:51</td>\n",
       "      <td>38859492057661</td>\n",
       "      <td>fraud_Lind-Buckridge</td>\n",
       "      <td>entertainment</td>\n",
       "      <td>220.11</td>\n",
       "      <td>Edward</td>\n",
       "      <td>Sanchez</td>\n",
       "      <td>M</td>\n",
       "      <td>594 White Dale Suite 530</td>\n",
       "      <td>...</td>\n",
       "      <td>42.1808</td>\n",
       "      <td>-112.2620</td>\n",
       "      <td>4154</td>\n",
       "      <td>Nature conservation officer</td>\n",
       "      <td>1962-01-19</td>\n",
       "      <td>a1a22d70485983eac12b5b88dad1cf95</td>\n",
       "      <td>1325376051</td>\n",
       "      <td>43.150704</td>\n",
       "      <td>-112.154481</td>\n",
       "      <td>0</td>\n",
       "    </tr>\n",
       "    <tr>\n",
       "      <th>3</th>\n",
       "      <td>3</td>\n",
       "      <td>2019-01-01 00:01:16</td>\n",
       "      <td>3534093764340240</td>\n",
       "      <td>fraud_Kutch, Hermiston and Farrell</td>\n",
       "      <td>gas_transport</td>\n",
       "      <td>45.00</td>\n",
       "      <td>Jeremy</td>\n",
       "      <td>White</td>\n",
       "      <td>M</td>\n",
       "      <td>9443 Cynthia Court Apt. 038</td>\n",
       "      <td>...</td>\n",
       "      <td>46.2306</td>\n",
       "      <td>-112.1138</td>\n",
       "      <td>1939</td>\n",
       "      <td>Patent attorney</td>\n",
       "      <td>1967-01-12</td>\n",
       "      <td>6b849c168bdad6f867558c3793159a81</td>\n",
       "      <td>1325376076</td>\n",
       "      <td>47.034331</td>\n",
       "      <td>-112.561071</td>\n",
       "      <td>0</td>\n",
       "    </tr>\n",
       "    <tr>\n",
       "      <th>4</th>\n",
       "      <td>4</td>\n",
       "      <td>2019-01-01 00:03:06</td>\n",
       "      <td>375534208663984</td>\n",
       "      <td>fraud_Keeling-Crist</td>\n",
       "      <td>misc_pos</td>\n",
       "      <td>41.96</td>\n",
       "      <td>Tyler</td>\n",
       "      <td>Garcia</td>\n",
       "      <td>M</td>\n",
       "      <td>408 Bradley Rest</td>\n",
       "      <td>...</td>\n",
       "      <td>38.4207</td>\n",
       "      <td>-79.4629</td>\n",
       "      <td>99</td>\n",
       "      <td>Dance movement psychotherapist</td>\n",
       "      <td>1986-03-28</td>\n",
       "      <td>a41d7549acf90789359a9aa5346dcb46</td>\n",
       "      <td>1325376186</td>\n",
       "      <td>38.674999</td>\n",
       "      <td>-78.632459</td>\n",
       "      <td>0</td>\n",
       "    </tr>\n",
       "  </tbody>\n",
       "</table>\n",
       "<p>5 rows × 23 columns</p>\n",
       "</div>"
      ],
      "text/plain": [
       "   Unnamed: 0 trans_date_trans_time            cc_num  \\\n",
       "0           0   2019-01-01 00:00:18  2703186189652095   \n",
       "1           1   2019-01-01 00:00:44      630423337322   \n",
       "2           2   2019-01-01 00:00:51    38859492057661   \n",
       "3           3   2019-01-01 00:01:16  3534093764340240   \n",
       "4           4   2019-01-01 00:03:06   375534208663984   \n",
       "\n",
       "                             merchant       category     amt      first  \\\n",
       "0          fraud_Rippin, Kub and Mann       misc_net    4.97   Jennifer   \n",
       "1     fraud_Heller, Gutmann and Zieme    grocery_pos  107.23  Stephanie   \n",
       "2                fraud_Lind-Buckridge  entertainment  220.11     Edward   \n",
       "3  fraud_Kutch, Hermiston and Farrell  gas_transport   45.00     Jeremy   \n",
       "4                 fraud_Keeling-Crist       misc_pos   41.96      Tyler   \n",
       "\n",
       "      last gender                        street  ...      lat      long  \\\n",
       "0    Banks      F                561 Perry Cove  ...  36.0788  -81.1781   \n",
       "1     Gill      F  43039 Riley Greens Suite 393  ...  48.8878 -118.2105   \n",
       "2  Sanchez      M      594 White Dale Suite 530  ...  42.1808 -112.2620   \n",
       "3    White      M   9443 Cynthia Court Apt. 038  ...  46.2306 -112.1138   \n",
       "4   Garcia      M              408 Bradley Rest  ...  38.4207  -79.4629   \n",
       "\n",
       "   city_pop                                job         dob  \\\n",
       "0      3495          Psychologist, counselling  1988-03-09   \n",
       "1       149  Special educational needs teacher  1978-06-21   \n",
       "2      4154        Nature conservation officer  1962-01-19   \n",
       "3      1939                    Patent attorney  1967-01-12   \n",
       "4        99     Dance movement psychotherapist  1986-03-28   \n",
       "\n",
       "                          trans_num   unix_time  merch_lat  merch_long  \\\n",
       "0  0b242abb623afc578575680df30655b9  1325376018  36.011293  -82.048315   \n",
       "1  1f76529f8574734946361c461b024d99  1325376044  49.159047 -118.186462   \n",
       "2  a1a22d70485983eac12b5b88dad1cf95  1325376051  43.150704 -112.154481   \n",
       "3  6b849c168bdad6f867558c3793159a81  1325376076  47.034331 -112.561071   \n",
       "4  a41d7549acf90789359a9aa5346dcb46  1325376186  38.674999  -78.632459   \n",
       "\n",
       "   is_fraud  \n",
       "0         0  \n",
       "1         0  \n",
       "2         0  \n",
       "3         0  \n",
       "4         0  \n",
       "\n",
       "[5 rows x 23 columns]"
      ]
     },
     "execution_count": 198,
     "metadata": {},
     "output_type": "execute_result"
    }
   ],
   "source": [
    "# a peak into data\n",
    "df.head()"
   ]
  },
  {
   "cell_type": "code",
   "execution_count": 199,
   "metadata": {},
   "outputs": [
    {
     "data": {
      "text/plain": [
       "(1852394, 23)"
      ]
     },
     "execution_count": 199,
     "metadata": {},
     "output_type": "execute_result"
    }
   ],
   "source": [
    "# number of rows and columns\n",
    "df.shape"
   ]
  },
  {
   "cell_type": "code",
   "execution_count": 200,
   "metadata": {},
   "outputs": [],
   "source": [
    "## cleaning dataset ##\n",
    "\n",
    "# rename columns\n",
    "df = df.rename(columns={'trans_date_trans_time': 'Date/Time', 'cc_num':'card_num','first':'first_name','last':'last_name','dob':'DOB','trans_num':'trans_ID','is_fraud':'fraud'})\n",
    "\n",
    "# cleaning the merchant column\n",
    "df['merchant']=df['merchant'].str.replace('fraud_','')\n",
    "\n",
    "# transforming date time\n",
    "df['Date/Time'] = pd.to_datetime(df['Date/Time'])"
   ]
  },
  {
   "cell_type": "code",
   "execution_count": 201,
   "metadata": {},
   "outputs": [
    {
     "name": "stderr",
     "output_type": "stream",
     "text": [
      "<ipython-input-201-edc1d800bbe4>:16: UserWarning: Boolean Series key will be reindexed to match DataFrame index.\n",
      "  fraud = pd.DataFrame(df[bool1])\n"
     ]
    }
   ],
   "source": [
    "## creating a rule for reporting all fraud trans: ##\n",
    "\n",
    "# creating a list\n",
    "bool1=[]\n",
    "# traversing through dataframe\n",
    "for trans in df.fraud:\n",
    "    if trans == 1:\n",
    "        bool1.append(True)\n",
    "    else:\n",
    "        bool1.append(False)\n",
    "\n",
    "# creating a panda series\n",
    "bool1=pd.Series(bool1)\n",
    "\n",
    "# creating a fraud dataframe\n",
    "fraud = pd.DataFrame(df[bool1])"
   ]
  },
  {
   "cell_type": "markdown",
   "metadata": {},
   "source": [
    "Some simple graphs to visualize data and pull some insights "
   ]
  },
  {
   "cell_type": "code",
   "execution_count": 202,
   "metadata": {},
   "outputs": [
    {
     "data": {
      "text/plain": [
       "<AxesSubplot:>"
      ]
     },
     "execution_count": 202,
     "metadata": {},
     "output_type": "execute_result"
    },
    {
     "data": {
      "image/png": "[encoded data removed]",
      "text/plain": [
       "<Figure size 864x864 with 1 Axes>"
      ]
     },
     "metadata": {
      "needs_background": "light"
     },
     "output_type": "display_data"
    }
   ],
   "source": [
    "# transactions and months/season:\n",
    "\n",
    "# deriving month:\n",
    "df['month'] = df['Date/Time'].dt.month_name()\n",
    "\n",
    "# plot\n",
    "df['month'].value_counts().plot.bar()"
   ]
  },
  {
   "cell_type": "code",
   "execution_count": 203,
   "metadata": {},
   "outputs": [
    {
     "name": "stderr",
     "output_type": "stream",
     "text": [
      "/opt/anaconda3/lib/python3.8/site-packages/seaborn/_decorators.py:36: FutureWarning: Pass the following variable as a keyword arg: x. From version 0.12, the only valid positional argument will be `data`, and passing other arguments without an explicit keyword will result in an error or misinterpretation.\n",
      "  warnings.warn(\n"
     ]
    },
    {
     "data": {
      "text/plain": [
       "<AxesSubplot:xlabel='fraud', ylabel='count'>"
      ]
     },
     "execution_count": 203,
     "metadata": {},
     "output_type": "execute_result"
    },
    {
     "data": {
      "image/png": "[encoded data removed]",
      "text/plain": [
       "<Figure size 864x864 with 1 Axes>"
      ]
     },
     "metadata": {
      "needs_background": "light"
     },
     "output_type": "display_data"
    }
   ],
   "source": [
    "# visualize fraud transactions vs valid transactions\n",
    "sns.countplot('fraud', data=df)"
   ]
  },
  {
   "cell_type": "markdown",
   "metadata": {},
   "source": [
    "As we know from most transactional data analysis, the percentage of fraud transactions is usually low. The graph confirms this. However, a low percentage of fraud transactions makes it very difficult to classify data or build models. This is due to lack of fraud data points to achieve accuracy and validation. "
   ]
  },
  {
   "cell_type": "code",
   "execution_count": 204,
   "metadata": {},
   "outputs": [
    {
     "data": {
      "text/plain": [
       "<AxesSubplot:>"
      ]
     },
     "execution_count": 204,
     "metadata": {},
     "output_type": "execute_result"
    },
    {
     "data": {
      "image/png": "[encoded data removed]",
      "text/plain": [
       "<Figure size 864x864 with 1 Axes>"
      ]
     },
     "metadata": {
      "needs_background": "light"
     },
     "output_type": "display_data"
    }
   ],
   "source": [
    "# fraud transactions happening per month: \n",
    "\n",
    "# derive month\n",
    "fraud['month'] = fraud['Date/Time'].dt.month_name()\n",
    "# plot\n",
    "fraud['month'].value_counts().plot.bar()"
   ]
  },
  {
   "cell_type": "markdown",
   "metadata": {},
   "source": [
    "Interesting! Most fraud transactions occur in March. I thought it would be December due to winter holidays season. "
   ]
  },
  {
   "cell_type": "code",
   "execution_count": 205,
   "metadata": {},
   "outputs": [
    {
     "data": {
      "text/plain": [
       "391.65352842653743"
      ]
     },
     "execution_count": 205,
     "metadata": {},
     "output_type": "execute_result"
    }
   ],
   "source": [
    "# mean amount of fraud happening:\n",
    "fraud['amt'].mean()"
   ]
  },
  {
   "cell_type": "code",
   "execution_count": 206,
   "metadata": {},
   "outputs": [
    {
     "data": {
      "text/plain": [
       "<bound method Series.max of 2449      281.06\n",
       "2472       11.52\n",
       "2523      276.31\n",
       "2546        7.03\n",
       "2553      275.73\n",
       "           ...  \n",
       "554349     60.15\n",
       "554355      2.15\n",
       "554390     22.49\n",
       "554468     63.48\n",
       "555163     27.77\n",
       "Name: amt, Length: 10747, dtype: float64>"
      ]
     },
     "execution_count": 206,
     "metadata": {},
     "output_type": "execute_result"
    }
   ],
   "source": [
    "# max amount of fraud happening:\n",
    "fraud['amt'].max"
   ]
  },
  {
   "cell_type": "markdown",
   "metadata": {},
   "source": [
    "That is quite a low number for most banking transactions. The data advises that there are more small number fraud transactions than really large amounts. "
   ]
  },
  {
   "cell_type": "code",
   "execution_count": 207,
   "metadata": {},
   "outputs": [
    {
     "data": {
      "text/plain": [
       "<AxesSubplot:xlabel='fraud', ylabel='count'>"
      ]
     },
     "execution_count": 207,
     "metadata": {},
     "output_type": "execute_result"
    },
    {
     "data": {
      "image/png": "[encoded data removed]",
      "text/plain": [
       "<Figure size 864x864 with 1 Axes>"
      ]
     },
     "metadata": {
      "needs_background": "light"
     },
     "output_type": "display_data"
    }
   ],
   "source": [
    "# fraud and category\n",
    "sns.countplot(x='fraud',hue='category',data=fraud)"
   ]
  },
  {
   "cell_type": "markdown",
   "metadata": {},
   "source": [
    "We can see that internet and grocery shopping has the most fraud transactions."
   ]
  },
  {
   "cell_type": "code",
   "execution_count": 208,
   "metadata": {},
   "outputs": [
    {
     "data": {
      "text/html": [
       "<style  type=\"text/css\" >\n",
       "#T_bb42cb00_db95_11eb_8a63_acde48001122row0_col0,#T_bb42cb00_db95_11eb_8a63_acde48001122row1_col1,#T_bb42cb00_db95_11eb_8a63_acde48001122row2_col2,#T_bb42cb00_db95_11eb_8a63_acde48001122row3_col3,#T_bb42cb00_db95_11eb_8a63_acde48001122row4_col4,#T_bb42cb00_db95_11eb_8a63_acde48001122row4_col8,#T_bb42cb00_db95_11eb_8a63_acde48001122row5_col5,#T_bb42cb00_db95_11eb_8a63_acde48001122row5_col9,#T_bb42cb00_db95_11eb_8a63_acde48001122row6_col6,#T_bb42cb00_db95_11eb_8a63_acde48001122row7_col7,#T_bb42cb00_db95_11eb_8a63_acde48001122row8_col4,#T_bb42cb00_db95_11eb_8a63_acde48001122row8_col8,#T_bb42cb00_db95_11eb_8a63_acde48001122row9_col5,#T_bb42cb00_db95_11eb_8a63_acde48001122row9_col9,#T_bb42cb00_db95_11eb_8a63_acde48001122row10_col10{\n",
       "            background-color:  #b40426;\n",
       "            color:  #f1f1f1;\n",
       "        }#T_bb42cb00_db95_11eb_8a63_acde48001122row0_col1,#T_bb42cb00_db95_11eb_8a63_acde48001122row0_col4,#T_bb42cb00_db95_11eb_8a63_acde48001122row0_col5,#T_bb42cb00_db95_11eb_8a63_acde48001122row0_col6,#T_bb42cb00_db95_11eb_8a63_acde48001122row0_col8,#T_bb42cb00_db95_11eb_8a63_acde48001122row0_col9,#T_bb42cb00_db95_11eb_8a63_acde48001122row1_col0,#T_bb42cb00_db95_11eb_8a63_acde48001122row1_col7,#T_bb42cb00_db95_11eb_8a63_acde48001122row1_col10,#T_bb42cb00_db95_11eb_8a63_acde48001122row2_col4,#T_bb42cb00_db95_11eb_8a63_acde48001122row2_col5,#T_bb42cb00_db95_11eb_8a63_acde48001122row2_col7,#T_bb42cb00_db95_11eb_8a63_acde48001122row2_col8,#T_bb42cb00_db95_11eb_8a63_acde48001122row2_col9,#T_bb42cb00_db95_11eb_8a63_acde48001122row3_col10,#T_bb42cb00_db95_11eb_8a63_acde48001122row4_col0,#T_bb42cb00_db95_11eb_8a63_acde48001122row4_col2,#T_bb42cb00_db95_11eb_8a63_acde48001122row5_col0,#T_bb42cb00_db95_11eb_8a63_acde48001122row5_col2,#T_bb42cb00_db95_11eb_8a63_acde48001122row5_col7,#T_bb42cb00_db95_11eb_8a63_acde48001122row6_col0,#T_bb42cb00_db95_11eb_8a63_acde48001122row6_col7,#T_bb42cb00_db95_11eb_8a63_acde48001122row6_col10,#T_bb42cb00_db95_11eb_8a63_acde48001122row7_col1,#T_bb42cb00_db95_11eb_8a63_acde48001122row7_col2,#T_bb42cb00_db95_11eb_8a63_acde48001122row7_col5,#T_bb42cb00_db95_11eb_8a63_acde48001122row7_col6,#T_bb42cb00_db95_11eb_8a63_acde48001122row7_col9,#T_bb42cb00_db95_11eb_8a63_acde48001122row8_col0,#T_bb42cb00_db95_11eb_8a63_acde48001122row8_col2,#T_bb42cb00_db95_11eb_8a63_acde48001122row9_col0,#T_bb42cb00_db95_11eb_8a63_acde48001122row9_col2,#T_bb42cb00_db95_11eb_8a63_acde48001122row9_col7,#T_bb42cb00_db95_11eb_8a63_acde48001122row10_col1,#T_bb42cb00_db95_11eb_8a63_acde48001122row10_col3,#T_bb42cb00_db95_11eb_8a63_acde48001122row10_col6{\n",
       "            background-color:  #d6dce4;\n",
       "            color:  #000000;\n",
       "        }#T_bb42cb00_db95_11eb_8a63_acde48001122row0_col2,#T_bb42cb00_db95_11eb_8a63_acde48001122row0_col3,#T_bb42cb00_db95_11eb_8a63_acde48001122row0_col10,#T_bb42cb00_db95_11eb_8a63_acde48001122row1_col2,#T_bb42cb00_db95_11eb_8a63_acde48001122row2_col0,#T_bb42cb00_db95_11eb_8a63_acde48001122row2_col1,#T_bb42cb00_db95_11eb_8a63_acde48001122row2_col3,#T_bb42cb00_db95_11eb_8a63_acde48001122row2_col6,#T_bb42cb00_db95_11eb_8a63_acde48001122row3_col0,#T_bb42cb00_db95_11eb_8a63_acde48001122row3_col2,#T_bb42cb00_db95_11eb_8a63_acde48001122row3_col7,#T_bb42cb00_db95_11eb_8a63_acde48001122row4_col7,#T_bb42cb00_db95_11eb_8a63_acde48001122row4_col10,#T_bb42cb00_db95_11eb_8a63_acde48001122row5_col10,#T_bb42cb00_db95_11eb_8a63_acde48001122row6_col2,#T_bb42cb00_db95_11eb_8a63_acde48001122row7_col3,#T_bb42cb00_db95_11eb_8a63_acde48001122row7_col4,#T_bb42cb00_db95_11eb_8a63_acde48001122row7_col8,#T_bb42cb00_db95_11eb_8a63_acde48001122row8_col7,#T_bb42cb00_db95_11eb_8a63_acde48001122row8_col10,#T_bb42cb00_db95_11eb_8a63_acde48001122row9_col10,#T_bb42cb00_db95_11eb_8a63_acde48001122row10_col0,#T_bb42cb00_db95_11eb_8a63_acde48001122row10_col4,#T_bb42cb00_db95_11eb_8a63_acde48001122row10_col5,#T_bb42cb00_db95_11eb_8a63_acde48001122row10_col8,#T_bb42cb00_db95_11eb_8a63_acde48001122row10_col9{\n",
       "            background-color:  #d7dce3;\n",
       "            color:  #000000;\n",
       "        }#T_bb42cb00_db95_11eb_8a63_acde48001122row0_col7,#T_bb42cb00_db95_11eb_8a63_acde48001122row7_col0{\n",
       "            background-color:  #edd2c3;\n",
       "            color:  #000000;\n",
       "        }#T_bb42cb00_db95_11eb_8a63_acde48001122row1_col3,#T_bb42cb00_db95_11eb_8a63_acde48001122row3_col1{\n",
       "            background-color:  #dcdddd;\n",
       "            color:  #000000;\n",
       "        }#T_bb42cb00_db95_11eb_8a63_acde48001122row1_col4,#T_bb42cb00_db95_11eb_8a63_acde48001122row1_col8,#T_bb42cb00_db95_11eb_8a63_acde48001122row4_col1,#T_bb42cb00_db95_11eb_8a63_acde48001122row5_col6,#T_bb42cb00_db95_11eb_8a63_acde48001122row6_col5,#T_bb42cb00_db95_11eb_8a63_acde48001122row6_col9,#T_bb42cb00_db95_11eb_8a63_acde48001122row8_col1,#T_bb42cb00_db95_11eb_8a63_acde48001122row9_col6{\n",
       "            background-color:  #cedaeb;\n",
       "            color:  #000000;\n",
       "        }#T_bb42cb00_db95_11eb_8a63_acde48001122row1_col5,#T_bb42cb00_db95_11eb_8a63_acde48001122row1_col9,#T_bb42cb00_db95_11eb_8a63_acde48001122row5_col1,#T_bb42cb00_db95_11eb_8a63_acde48001122row9_col1{\n",
       "            background-color:  #cfdaea;\n",
       "            color:  #000000;\n",
       "        }#T_bb42cb00_db95_11eb_8a63_acde48001122row1_col6,#T_bb42cb00_db95_11eb_8a63_acde48001122row6_col1,#T_bb42cb00_db95_11eb_8a63_acde48001122row7_col10,#T_bb42cb00_db95_11eb_8a63_acde48001122row8_col9,#T_bb42cb00_db95_11eb_8a63_acde48001122row9_col8,#T_bb42cb00_db95_11eb_8a63_acde48001122row10_col7{\n",
       "            background-color:  #d5dbe5;\n",
       "            color:  #000000;\n",
       "        }#T_bb42cb00_db95_11eb_8a63_acde48001122row2_col10,#T_bb42cb00_db95_11eb_8a63_acde48001122row10_col2{\n",
       "            background-color:  #f0cdbb;\n",
       "            color:  #000000;\n",
       "        }#T_bb42cb00_db95_11eb_8a63_acde48001122row3_col4,#T_bb42cb00_db95_11eb_8a63_acde48001122row3_col8,#T_bb42cb00_db95_11eb_8a63_acde48001122row4_col3,#T_bb42cb00_db95_11eb_8a63_acde48001122row8_col3{\n",
       "            background-color:  #c5d6f2;\n",
       "            color:  #000000;\n",
       "        }#T_bb42cb00_db95_11eb_8a63_acde48001122row3_col5,#T_bb42cb00_db95_11eb_8a63_acde48001122row3_col9,#T_bb42cb00_db95_11eb_8a63_acde48001122row5_col3,#T_bb42cb00_db95_11eb_8a63_acde48001122row9_col3{\n",
       "            background-color:  #3b4cc0;\n",
       "            color:  #f1f1f1;\n",
       "        }#T_bb42cb00_db95_11eb_8a63_acde48001122row3_col6,#T_bb42cb00_db95_11eb_8a63_acde48001122row6_col3{\n",
       "            background-color:  #e1dad6;\n",
       "            color:  #000000;\n",
       "        }#T_bb42cb00_db95_11eb_8a63_acde48001122row4_col5,#T_bb42cb00_db95_11eb_8a63_acde48001122row4_col9,#T_bb42cb00_db95_11eb_8a63_acde48001122row5_col4,#T_bb42cb00_db95_11eb_8a63_acde48001122row5_col8,#T_bb42cb00_db95_11eb_8a63_acde48001122row8_col5,#T_bb42cb00_db95_11eb_8a63_acde48001122row9_col4{\n",
       "            background-color:  #d4dbe6;\n",
       "            color:  #000000;\n",
       "        }#T_bb42cb00_db95_11eb_8a63_acde48001122row4_col6,#T_bb42cb00_db95_11eb_8a63_acde48001122row6_col4,#T_bb42cb00_db95_11eb_8a63_acde48001122row6_col8,#T_bb42cb00_db95_11eb_8a63_acde48001122row8_col6{\n",
       "            background-color:  #bfd3f6;\n",
       "            color:  #000000;\n",
       "        }</style><table id=\"T_bb42cb00_db95_11eb_8a63_acde48001122\" ><thead>    <tr>        <th class=\"blank level0\" ></th>        <th class=\"col_heading level0 col0\" >Unnamed: 0</th>        <th class=\"col_heading level0 col1\" >card_num</th>        <th class=\"col_heading level0 col2\" >amt</th>        <th class=\"col_heading level0 col3\" >zip</th>        <th class=\"col_heading level0 col4\" >lat</th>        <th class=\"col_heading level0 col5\" >long</th>        <th class=\"col_heading level0 col6\" >city_pop</th>        <th class=\"col_heading level0 col7\" >unix_time</th>        <th class=\"col_heading level0 col8\" >merch_lat</th>        <th class=\"col_heading level0 col9\" >merch_long</th>        <th class=\"col_heading level0 col10\" >fraud</th>    </tr></thead><tbody>\n",
       "                <tr>\n",
       "                        <th id=\"T_bb42cb00_db95_11eb_8a63_acde48001122level0_row0\" class=\"row_heading level0 row0\" >Unnamed: 0</th>\n",
       "                        <td id=\"T_bb42cb00_db95_11eb_8a63_acde48001122row0_col0\" class=\"data row0 col0\" >1.000000</td>\n",
       "                        <td id=\"T_bb42cb00_db95_11eb_8a63_acde48001122row0_col1\" class=\"data row0 col1\" >0.000063</td>\n",
       "                        <td id=\"T_bb42cb00_db95_11eb_8a63_acde48001122row0_col2\" class=\"data row0 col2\" >0.000949</td>\n",
       "                        <td id=\"T_bb42cb00_db95_11eb_8a63_acde48001122row0_col3\" class=\"data row0 col3\" >0.000370</td>\n",
       "                        <td id=\"T_bb42cb00_db95_11eb_8a63_acde48001122row0_col4\" class=\"data row0 col4\" >0.000239</td>\n",
       "                        <td id=\"T_bb42cb00_db95_11eb_8a63_acde48001122row0_col5\" class=\"data row0 col5\" >-0.000610</td>\n",
       "                        <td id=\"T_bb42cb00_db95_11eb_8a63_acde48001122row0_col6\" class=\"data row0 col6\" >-0.000880</td>\n",
       "                        <td id=\"T_bb42cb00_db95_11eb_8a63_acde48001122row0_col7\" class=\"data row0 col7\" >0.174527</td>\n",
       "                        <td id=\"T_bb42cb00_db95_11eb_8a63_acde48001122row0_col8\" class=\"data row0 col8\" >0.000211</td>\n",
       "                        <td id=\"T_bb42cb00_db95_11eb_8a63_acde48001122row0_col9\" class=\"data row0 col9\" >-0.000611</td>\n",
       "                        <td id=\"T_bb42cb00_db95_11eb_8a63_acde48001122row0_col10\" class=\"data row0 col10\" >0.000524</td>\n",
       "            </tr>\n",
       "            <tr>\n",
       "                        <th id=\"T_bb42cb00_db95_11eb_8a63_acde48001122level0_row1\" class=\"row_heading level0 row1\" >card_num</th>\n",
       "                        <td id=\"T_bb42cb00_db95_11eb_8a63_acde48001122row1_col0\" class=\"data row1 col0\" >0.000063</td>\n",
       "                        <td id=\"T_bb42cb00_db95_11eb_8a63_acde48001122row1_col1\" class=\"data row1 col1\" >1.000000</td>\n",
       "                        <td id=\"T_bb42cb00_db95_11eb_8a63_acde48001122row1_col2\" class=\"data row1 col2\" >0.001826</td>\n",
       "                        <td id=\"T_bb42cb00_db95_11eb_8a63_acde48001122row1_col3\" class=\"data row1 col3\" >0.041504</td>\n",
       "                        <td id=\"T_bb42cb00_db95_11eb_8a63_acde48001122row1_col4\" class=\"data row1 col4\" >-0.058744</td>\n",
       "                        <td id=\"T_bb42cb00_db95_11eb_8a63_acde48001122row1_col5\" class=\"data row1 col5\" >-0.048429</td>\n",
       "                        <td id=\"T_bb42cb00_db95_11eb_8a63_acde48001122row1_col6\" class=\"data row1 col6\" >-0.009118</td>\n",
       "                        <td id=\"T_bb42cb00_db95_11eb_8a63_acde48001122row1_col7\" class=\"data row1 col7\" >0.000284</td>\n",
       "                        <td id=\"T_bb42cb00_db95_11eb_8a63_acde48001122row1_col8\" class=\"data row1 col8\" >-0.058415</td>\n",
       "                        <td id=\"T_bb42cb00_db95_11eb_8a63_acde48001122row1_col9\" class=\"data row1 col9\" >-0.048421</td>\n",
       "                        <td id=\"T_bb42cb00_db95_11eb_8a63_acde48001122row1_col10\" class=\"data row1 col10\" >-0.001125</td>\n",
       "            </tr>\n",
       "            <tr>\n",
       "                        <th id=\"T_bb42cb00_db95_11eb_8a63_acde48001122level0_row2\" class=\"row_heading level0 row2\" >amt</th>\n",
       "                        <td id=\"T_bb42cb00_db95_11eb_8a63_acde48001122row2_col0\" class=\"data row2 col0\" >0.000949</td>\n",
       "                        <td id=\"T_bb42cb00_db95_11eb_8a63_acde48001122row2_col1\" class=\"data row2 col1\" >0.001826</td>\n",
       "                        <td id=\"T_bb42cb00_db95_11eb_8a63_acde48001122row2_col2\" class=\"data row2 col2\" >1.000000</td>\n",
       "                        <td id=\"T_bb42cb00_db95_11eb_8a63_acde48001122row2_col3\" class=\"data row2 col3\" >0.001979</td>\n",
       "                        <td id=\"T_bb42cb00_db95_11eb_8a63_acde48001122row2_col4\" class=\"data row2 col4\" >-0.000670</td>\n",
       "                        <td id=\"T_bb42cb00_db95_11eb_8a63_acde48001122row2_col5\" class=\"data row2 col5\" >-0.000735</td>\n",
       "                        <td id=\"T_bb42cb00_db95_11eb_8a63_acde48001122row2_col6\" class=\"data row2 col6\" >0.004921</td>\n",
       "                        <td id=\"T_bb42cb00_db95_11eb_8a63_acde48001122row2_col7\" class=\"data row2 col7\" >-0.002411</td>\n",
       "                        <td id=\"T_bb42cb00_db95_11eb_8a63_acde48001122row2_col8\" class=\"data row2 col8\" >-0.000613</td>\n",
       "                        <td id=\"T_bb42cb00_db95_11eb_8a63_acde48001122row2_col9\" class=\"data row2 col9\" >-0.000711</td>\n",
       "                        <td id=\"T_bb42cb00_db95_11eb_8a63_acde48001122row2_col10\" class=\"data row2 col10\" >0.209308</td>\n",
       "            </tr>\n",
       "            <tr>\n",
       "                        <th id=\"T_bb42cb00_db95_11eb_8a63_acde48001122level0_row3\" class=\"row_heading level0 row3\" >zip</th>\n",
       "                        <td id=\"T_bb42cb00_db95_11eb_8a63_acde48001122row3_col0\" class=\"data row3 col0\" >0.000370</td>\n",
       "                        <td id=\"T_bb42cb00_db95_11eb_8a63_acde48001122row3_col1\" class=\"data row3 col1\" >0.041504</td>\n",
       "                        <td id=\"T_bb42cb00_db95_11eb_8a63_acde48001122row3_col2\" class=\"data row3 col2\" >0.001979</td>\n",
       "                        <td id=\"T_bb42cb00_db95_11eb_8a63_acde48001122row3_col3\" class=\"data row3 col3\" >1.000000</td>\n",
       "                        <td id=\"T_bb42cb00_db95_11eb_8a63_acde48001122row3_col4\" class=\"data row3 col4\" >-0.114554</td>\n",
       "                        <td id=\"T_bb42cb00_db95_11eb_8a63_acde48001122row3_col5\" class=\"data row3 col5\" >-0.909795</td>\n",
       "                        <td id=\"T_bb42cb00_db95_11eb_8a63_acde48001122row3_col6\" class=\"data row3 col6\" >0.077601</td>\n",
       "                        <td id=\"T_bb42cb00_db95_11eb_8a63_acde48001122row3_col7\" class=\"data row3 col7\" >0.001017</td>\n",
       "                        <td id=\"T_bb42cb00_db95_11eb_8a63_acde48001122row3_col8\" class=\"data row3 col8\" >-0.113934</td>\n",
       "                        <td id=\"T_bb42cb00_db95_11eb_8a63_acde48001122row3_col9\" class=\"data row3 col9\" >-0.908981</td>\n",
       "                        <td id=\"T_bb42cb00_db95_11eb_8a63_acde48001122row3_col10\" class=\"data row3 col10\" >-0.002190</td>\n",
       "            </tr>\n",
       "            <tr>\n",
       "                        <th id=\"T_bb42cb00_db95_11eb_8a63_acde48001122level0_row4\" class=\"row_heading level0 row4\" >lat</th>\n",
       "                        <td id=\"T_bb42cb00_db95_11eb_8a63_acde48001122row4_col0\" class=\"data row4 col0\" >0.000239</td>\n",
       "                        <td id=\"T_bb42cb00_db95_11eb_8a63_acde48001122row4_col1\" class=\"data row4 col1\" >-0.058744</td>\n",
       "                        <td id=\"T_bb42cb00_db95_11eb_8a63_acde48001122row4_col2\" class=\"data row4 col2\" >-0.000670</td>\n",
       "                        <td id=\"T_bb42cb00_db95_11eb_8a63_acde48001122row4_col3\" class=\"data row4 col3\" >-0.114554</td>\n",
       "                        <td id=\"T_bb42cb00_db95_11eb_8a63_acde48001122row4_col4\" class=\"data row4 col4\" >1.000000</td>\n",
       "                        <td id=\"T_bb42cb00_db95_11eb_8a63_acde48001122row4_col5\" class=\"data row4 col5\" >-0.014744</td>\n",
       "                        <td id=\"T_bb42cb00_db95_11eb_8a63_acde48001122row4_col6\" class=\"data row4 col6\" >-0.154816</td>\n",
       "                        <td id=\"T_bb42cb00_db95_11eb_8a63_acde48001122row4_col7\" class=\"data row4 col7\" >0.000741</td>\n",
       "                        <td id=\"T_bb42cb00_db95_11eb_8a63_acde48001122row4_col8\" class=\"data row4 col8\" >0.993582</td>\n",
       "                        <td id=\"T_bb42cb00_db95_11eb_8a63_acde48001122row4_col9\" class=\"data row4 col9\" >-0.014709</td>\n",
       "                        <td id=\"T_bb42cb00_db95_11eb_8a63_acde48001122row4_col10\" class=\"data row4 col10\" >0.002904</td>\n",
       "            </tr>\n",
       "            <tr>\n",
       "                        <th id=\"T_bb42cb00_db95_11eb_8a63_acde48001122level0_row5\" class=\"row_heading level0 row5\" >long</th>\n",
       "                        <td id=\"T_bb42cb00_db95_11eb_8a63_acde48001122row5_col0\" class=\"data row5 col0\" >-0.000610</td>\n",
       "                        <td id=\"T_bb42cb00_db95_11eb_8a63_acde48001122row5_col1\" class=\"data row5 col1\" >-0.048429</td>\n",
       "                        <td id=\"T_bb42cb00_db95_11eb_8a63_acde48001122row5_col2\" class=\"data row5 col2\" >-0.000735</td>\n",
       "                        <td id=\"T_bb42cb00_db95_11eb_8a63_acde48001122row5_col3\" class=\"data row5 col3\" >-0.909795</td>\n",
       "                        <td id=\"T_bb42cb00_db95_11eb_8a63_acde48001122row5_col4\" class=\"data row5 col4\" >-0.014744</td>\n",
       "                        <td id=\"T_bb42cb00_db95_11eb_8a63_acde48001122row5_col5\" class=\"data row5 col5\" >1.000000</td>\n",
       "                        <td id=\"T_bb42cb00_db95_11eb_8a63_acde48001122row5_col6\" class=\"data row5 col6\" >-0.052359</td>\n",
       "                        <td id=\"T_bb42cb00_db95_11eb_8a63_acde48001122row5_col7\" class=\"data row5 col7\" >-0.000574</td>\n",
       "                        <td id=\"T_bb42cb00_db95_11eb_8a63_acde48001122row5_col8\" class=\"data row5 col8\" >-0.014585</td>\n",
       "                        <td id=\"T_bb42cb00_db95_11eb_8a63_acde48001122row5_col9\" class=\"data row5 col9\" >0.999118</td>\n",
       "                        <td id=\"T_bb42cb00_db95_11eb_8a63_acde48001122row5_col10\" class=\"data row5 col10\" >0.001022</td>\n",
       "            </tr>\n",
       "            <tr>\n",
       "                        <th id=\"T_bb42cb00_db95_11eb_8a63_acde48001122level0_row6\" class=\"row_heading level0 row6\" >city_pop</th>\n",
       "                        <td id=\"T_bb42cb00_db95_11eb_8a63_acde48001122row6_col0\" class=\"data row6 col0\" >-0.000880</td>\n",
       "                        <td id=\"T_bb42cb00_db95_11eb_8a63_acde48001122row6_col1\" class=\"data row6 col1\" >-0.009118</td>\n",
       "                        <td id=\"T_bb42cb00_db95_11eb_8a63_acde48001122row6_col2\" class=\"data row6 col2\" >0.004921</td>\n",
       "                        <td id=\"T_bb42cb00_db95_11eb_8a63_acde48001122row6_col3\" class=\"data row6 col3\" >0.077601</td>\n",
       "                        <td id=\"T_bb42cb00_db95_11eb_8a63_acde48001122row6_col4\" class=\"data row6 col4\" >-0.154816</td>\n",
       "                        <td id=\"T_bb42cb00_db95_11eb_8a63_acde48001122row6_col5\" class=\"data row6 col5\" >-0.052359</td>\n",
       "                        <td id=\"T_bb42cb00_db95_11eb_8a63_acde48001122row6_col6\" class=\"data row6 col6\" >1.000000</td>\n",
       "                        <td id=\"T_bb42cb00_db95_11eb_8a63_acde48001122row6_col7\" class=\"data row6 col7\" >-0.001636</td>\n",
       "                        <td id=\"T_bb42cb00_db95_11eb_8a63_acde48001122row6_col8\" class=\"data row6 col8\" >-0.153863</td>\n",
       "                        <td id=\"T_bb42cb00_db95_11eb_8a63_acde48001122row6_col9\" class=\"data row6 col9\" >-0.052329</td>\n",
       "                        <td id=\"T_bb42cb00_db95_11eb_8a63_acde48001122row6_col10\" class=\"data row6 col10\" >0.000325</td>\n",
       "            </tr>\n",
       "            <tr>\n",
       "                        <th id=\"T_bb42cb00_db95_11eb_8a63_acde48001122level0_row7\" class=\"row_heading level0 row7\" >unix_time</th>\n",
       "                        <td id=\"T_bb42cb00_db95_11eb_8a63_acde48001122row7_col0\" class=\"data row7 col0\" >0.174527</td>\n",
       "                        <td id=\"T_bb42cb00_db95_11eb_8a63_acde48001122row7_col1\" class=\"data row7 col1\" >0.000284</td>\n",
       "                        <td id=\"T_bb42cb00_db95_11eb_8a63_acde48001122row7_col2\" class=\"data row7 col2\" >-0.002411</td>\n",
       "                        <td id=\"T_bb42cb00_db95_11eb_8a63_acde48001122row7_col3\" class=\"data row7 col3\" >0.001017</td>\n",
       "                        <td id=\"T_bb42cb00_db95_11eb_8a63_acde48001122row7_col4\" class=\"data row7 col4\" >0.000741</td>\n",
       "                        <td id=\"T_bb42cb00_db95_11eb_8a63_acde48001122row7_col5\" class=\"data row7 col5\" >-0.000574</td>\n",
       "                        <td id=\"T_bb42cb00_db95_11eb_8a63_acde48001122row7_col6\" class=\"data row7 col6\" >-0.001636</td>\n",
       "                        <td id=\"T_bb42cb00_db95_11eb_8a63_acde48001122row7_col7\" class=\"data row7 col7\" >1.000000</td>\n",
       "                        <td id=\"T_bb42cb00_db95_11eb_8a63_acde48001122row7_col8\" class=\"data row7 col8\" >0.000696</td>\n",
       "                        <td id=\"T_bb42cb00_db95_11eb_8a63_acde48001122row7_col9\" class=\"data row7 col9\" >-0.000571</td>\n",
       "                        <td id=\"T_bb42cb00_db95_11eb_8a63_acde48001122row7_col10\" class=\"data row7 col10\" >-0.013329</td>\n",
       "            </tr>\n",
       "            <tr>\n",
       "                        <th id=\"T_bb42cb00_db95_11eb_8a63_acde48001122level0_row8\" class=\"row_heading level0 row8\" >merch_lat</th>\n",
       "                        <td id=\"T_bb42cb00_db95_11eb_8a63_acde48001122row8_col0\" class=\"data row8 col0\" >0.000211</td>\n",
       "                        <td id=\"T_bb42cb00_db95_11eb_8a63_acde48001122row8_col1\" class=\"data row8 col1\" >-0.058415</td>\n",
       "                        <td id=\"T_bb42cb00_db95_11eb_8a63_acde48001122row8_col2\" class=\"data row8 col2\" >-0.000613</td>\n",
       "                        <td id=\"T_bb42cb00_db95_11eb_8a63_acde48001122row8_col3\" class=\"data row8 col3\" >-0.113934</td>\n",
       "                        <td id=\"T_bb42cb00_db95_11eb_8a63_acde48001122row8_col4\" class=\"data row8 col4\" >0.993582</td>\n",
       "                        <td id=\"T_bb42cb00_db95_11eb_8a63_acde48001122row8_col5\" class=\"data row8 col5\" >-0.014585</td>\n",
       "                        <td id=\"T_bb42cb00_db95_11eb_8a63_acde48001122row8_col6\" class=\"data row8 col6\" >-0.153863</td>\n",
       "                        <td id=\"T_bb42cb00_db95_11eb_8a63_acde48001122row8_col7\" class=\"data row8 col7\" >0.000696</td>\n",
       "                        <td id=\"T_bb42cb00_db95_11eb_8a63_acde48001122row8_col8\" class=\"data row8 col8\" >1.000000</td>\n",
       "                        <td id=\"T_bb42cb00_db95_11eb_8a63_acde48001122row8_col9\" class=\"data row8 col9\" >-0.014554</td>\n",
       "                        <td id=\"T_bb42cb00_db95_11eb_8a63_acde48001122row8_col10\" class=\"data row8 col10\" >0.002778</td>\n",
       "            </tr>\n",
       "            <tr>\n",
       "                        <th id=\"T_bb42cb00_db95_11eb_8a63_acde48001122level0_row9\" class=\"row_heading level0 row9\" >merch_long</th>\n",
       "                        <td id=\"T_bb42cb00_db95_11eb_8a63_acde48001122row9_col0\" class=\"data row9 col0\" >-0.000611</td>\n",
       "                        <td id=\"T_bb42cb00_db95_11eb_8a63_acde48001122row9_col1\" class=\"data row9 col1\" >-0.048421</td>\n",
       "                        <td id=\"T_bb42cb00_db95_11eb_8a63_acde48001122row9_col2\" class=\"data row9 col2\" >-0.000711</td>\n",
       "                        <td id=\"T_bb42cb00_db95_11eb_8a63_acde48001122row9_col3\" class=\"data row9 col3\" >-0.908981</td>\n",
       "                        <td id=\"T_bb42cb00_db95_11eb_8a63_acde48001122row9_col4\" class=\"data row9 col4\" >-0.014709</td>\n",
       "                        <td id=\"T_bb42cb00_db95_11eb_8a63_acde48001122row9_col5\" class=\"data row9 col5\" >0.999118</td>\n",
       "                        <td id=\"T_bb42cb00_db95_11eb_8a63_acde48001122row9_col6\" class=\"data row9 col6\" >-0.052329</td>\n",
       "                        <td id=\"T_bb42cb00_db95_11eb_8a63_acde48001122row9_col7\" class=\"data row9 col7\" >-0.000571</td>\n",
       "                        <td id=\"T_bb42cb00_db95_11eb_8a63_acde48001122row9_col8\" class=\"data row9 col8\" >-0.014554</td>\n",
       "                        <td id=\"T_bb42cb00_db95_11eb_8a63_acde48001122row9_col9\" class=\"data row9 col9\" >1.000000</td>\n",
       "                        <td id=\"T_bb42cb00_db95_11eb_8a63_acde48001122row9_col10\" class=\"data row9 col10\" >0.000999</td>\n",
       "            </tr>\n",
       "            <tr>\n",
       "                        <th id=\"T_bb42cb00_db95_11eb_8a63_acde48001122level0_row10\" class=\"row_heading level0 row10\" >fraud</th>\n",
       "                        <td id=\"T_bb42cb00_db95_11eb_8a63_acde48001122row10_col0\" class=\"data row10 col0\" >0.000524</td>\n",
       "                        <td id=\"T_bb42cb00_db95_11eb_8a63_acde48001122row10_col1\" class=\"data row10 col1\" >-0.001125</td>\n",
       "                        <td id=\"T_bb42cb00_db95_11eb_8a63_acde48001122row10_col2\" class=\"data row10 col2\" >0.209308</td>\n",
       "                        <td id=\"T_bb42cb00_db95_11eb_8a63_acde48001122row10_col3\" class=\"data row10 col3\" >-0.002190</td>\n",
       "                        <td id=\"T_bb42cb00_db95_11eb_8a63_acde48001122row10_col4\" class=\"data row10 col4\" >0.002904</td>\n",
       "                        <td id=\"T_bb42cb00_db95_11eb_8a63_acde48001122row10_col5\" class=\"data row10 col5\" >0.001022</td>\n",
       "                        <td id=\"T_bb42cb00_db95_11eb_8a63_acde48001122row10_col6\" class=\"data row10 col6\" >0.000325</td>\n",
       "                        <td id=\"T_bb42cb00_db95_11eb_8a63_acde48001122row10_col7\" class=\"data row10 col7\" >-0.013329</td>\n",
       "                        <td id=\"T_bb42cb00_db95_11eb_8a63_acde48001122row10_col8\" class=\"data row10 col8\" >0.002778</td>\n",
       "                        <td id=\"T_bb42cb00_db95_11eb_8a63_acde48001122row10_col9\" class=\"data row10 col9\" >0.000999</td>\n",
       "                        <td id=\"T_bb42cb00_db95_11eb_8a63_acde48001122row10_col10\" class=\"data row10 col10\" >1.000000</td>\n",
       "            </tr>\n",
       "    </tbody></table>"
      ],
      "text/plain": [
       "<pandas.io.formats.style.Styler at 0x194c46a90>"
      ]
     },
     "execution_count": 208,
     "metadata": {},
     "output_type": "execute_result"
    }
   ],
   "source": [
    "# correlation between variables \n",
    "corr = df.corr()\n",
    "# plot\n",
    "corr.style.background_gradient(cmap='coolwarm', axis=None)"
   ]
  },
  {
   "cell_type": "markdown",
   "metadata": {},
   "source": [
    "Better visualization if you are not a number's person: "
   ]
  },
  {
   "cell_type": "code",
   "execution_count": 209,
   "metadata": {},
   "outputs": [
    {
     "data": {
      "text/plain": [
       "<AxesSubplot:>"
      ]
     },
     "execution_count": 209,
     "metadata": {},
     "output_type": "execute_result"
    },
    {
     "data": {
      "image/png": "[encoded data removed]",
      "text/plain": [
       "<Figure size 720x576 with 2 Axes>"
      ]
     },
     "metadata": {
      "needs_background": "light"
     },
     "output_type": "display_data"
    }
   ],
   "source": [
    "# plot\n",
    "f, ax = plt.subplots(figsize=(10, 8))\n",
    "sns.heatmap(corr, mask=np.zeros_like(corr, dtype=np.bool), cmap=sns.diverging_palette(220, 10, as_cmap=True),\n",
    "            square=True, ax=ax)"
   ]
  },
  {
   "cell_type": "markdown",
   "metadata": {},
   "source": [
    "The graph shows that most of the variables are not correlated. Some very common ones are like merchant's location with zip code and customer's location. "
   ]
  },
  {
   "cell_type": "markdown",
   "metadata": {},
   "source": [
    "We will do some data analysis and build some prediction models. "
   ]
  },
  {
   "cell_type": "markdown",
   "metadata": {},
   "source": [
    "For this project, we will use selective variables which we are interested in. We want to see if the chosen variables can predic if a transaction is fraud or not. The chosen variables are category, amt, gender, lat, long, city_pop, merch_lat, merch_long. We need to change these variables into binary dummy variables for our analysis. "
   ]
  },
  {
   "cell_type": "code",
   "execution_count": 210,
   "metadata": {},
   "outputs": [],
   "source": [
    "# creating dummy variables\n",
    "category_d = pd.get_dummies(df['category'],drop_first=True)\n",
    "gender_d = pd.get_dummies(df['gender'],drop_first=True)\n",
    "\n",
    "# adding the new dummy ones\n",
    "df = pd.concat([df,category_d,gender_d],axis=1)"
   ]
  },
  {
   "cell_type": "code",
   "execution_count": 211,
   "metadata": {},
   "outputs": [],
   "source": [
    "\n",
    "# creating a back up\n",
    "temp_df= df\n",
    "\n",
    "# dependent variable\n",
    "y = temp_df['fraud']\n",
    "\n",
    "# easier to drop columns than name the necessary ones, predictor variable\n",
    "X = temp_df.drop(['Date/Time', 'card_num', 'merchant', 'category',\n",
    "       'first_name', 'last_name', 'gender', 'street', 'city', 'state', 'zip',\n",
    "       'job', 'DOB', 'trans_ID', 'unix_time', 'fraud', 'month'],axis=1)"
   ]
  },
  {
   "cell_type": "code",
   "execution_count": 212,
   "metadata": {},
   "outputs": [],
   "source": [
    "## Classifier using Logistic Regression ##\n",
    "\n",
    "# split data\n",
    "X_train,X_test,y_train,y_test = train_test_split(X,y,test_size=0.25,random_state=0)\n",
    "\n",
    "# implementing the model\n",
    "logreg = LogisticRegression()\n",
    "logreg.fit(X_train, y_train)\n",
    "\n",
    "# predictions\n",
    "y_pred = logreg.predict(X_test)\n",
    "\n",
    "# confusion matrix\n",
    "confusion_matrix = confusion_matrix(y_test, y_pred)"
   ]
  },
  {
   "cell_type": "markdown",
   "metadata": {},
   "source": [
    "We have gotten our data to fit a model. Now, we will check for accuracy. "
   ]
  },
  {
   "cell_type": "code",
   "execution_count": 213,
   "metadata": {},
   "outputs": [
    {
     "name": "stdout",
     "output_type": "stream",
     "text": [
      "[[460447    215]\n",
      " [  2437      0]]\n"
     ]
    }
   ],
   "source": [
    "print(confusion_matrix)"
   ]
  },
  {
   "cell_type": "markdown",
   "metadata": {},
   "source": [
    "The confusion matrix tells us that 460447 are correct predictions, while 215 + 2437 are incorrecr predictions."
   ]
  },
  {
   "cell_type": "code",
   "execution_count": 214,
   "metadata": {},
   "outputs": [
    {
     "name": "stdout",
     "output_type": "stream",
     "text": [
      "Accuracy of logistic regression classifier on test set: 0.99\n"
     ]
    }
   ],
   "source": [
    "print('Accuracy of logistic regression classifier on test set: {:.2f}'.format(logreg.score(X_test, y_test)))"
   ]
  },
  {
   "cell_type": "markdown",
   "metadata": {},
   "source": [
    "Let us look at some accuracy graphs. ROC is a common tool in statistical analysis concerning binary classifiers. The line represents the ROC curve of a purely random classifier; we want our classifier to be as far away from the line as possible (toward the top-left corner) to show efficiency. "
   ]
  },
  {
   "cell_type": "code",
   "execution_count": 215,
   "metadata": {},
   "outputs": [
    {
     "data": {
      "image/png": "[encoded data removed]",
      "text/plain": [
       "<Figure size 864x864 with 1 Axes>"
      ]
     },
     "metadata": {
      "needs_background": "light"
     },
     "output_type": "display_data"
    }
   ],
   "source": [
    "# ROC curve\n",
    "logit_roc_auc = roc_auc_score(y_test, logreg.predict(X_test))\n",
    "fpr, tpr, thresholds = roc_curve(y_test, logreg.predict_proba(X_test)[:,1])\n",
    "plt.figure()\n",
    "plt.plot(fpr, tpr, label='Logistic Regression (area = %0.2f)' % logit_roc_auc)\n",
    "plt.plot([0, 1], [0, 1],'r--')\n",
    "plt.xlim([0.0, 1.0])\n",
    "plt.ylim([0.0, 1.05])\n",
    "plt.xlabel('False Positive Rate')\n",
    "plt.ylabel('True Positive Rate')\n",
    "plt.title('Receiver operating characteristic')\n",
    "plt.legend(loc=\"lower right\")\n",
    "plt.savefig('Log_ROC')\n",
    "plt.show()"
   ]
  },
  {
   "cell_type": "markdown",
   "metadata": {},
   "source": [
    "ROC area is 0.50, it could be better. Some of the backdraws of this analysis is the data is highly imbalanced, since the difference between percentages of fraud transactions vs. valid transactions is relatively high. For next time, we would need more a stronger data set. "
   ]
  }
 ],
 "metadata": {
  "kernelspec": {
   "display_name": "Python 3",
   "language": "python",
   "name": "python3"
  },
  "language_info": {
   "codemirror_mode": {
    "name": "ipython",
    "version": 3
   },
   "file_extension": ".py",
   "mimetype": "text/x-python",
   "name": "python",
   "nbconvert_exporter": "python",
   "pygments_lexer": "ipython3",
   "version": "3.8.5"
  }
 },
 "nbformat": 4,
 "nbformat_minor": 4
}
